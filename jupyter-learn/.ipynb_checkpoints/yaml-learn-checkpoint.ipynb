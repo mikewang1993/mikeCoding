{
 "cells": [
  {
   "cell_type": "code",
   "execution_count": 10,
   "metadata": {
    "collapsed": false
   },
   "outputs": [],
   "source": [
    "import getopt\n",
    "import yaml\n",
    "import numpy as np\n",
    "from easydict import EasyDict as edict\n",
    "\n",
    "cfg_file = '/home/mikewang/ccnn-master/models/ucsd/hydra2/hydra2_ucsd_cfg.yml'\n",
    "with open(cfg_file,'r') as f:\n",
    "    yaml_file = yaml.load(f)"
   ]
  },
  {
   "cell_type": "code",
   "execution_count": 30,
   "metadata": {
    "collapsed": false
   },
   "outputs": [
    {
     "data": {
      "text/plain": [
       "72"
      ]
     },
     "execution_count": 30,
     "metadata": {},
     "output_type": "execute_result"
    }
   ],
   "source": [
    "yaml_file['UCSD']['CNN_PW_IN']\n",
    "dict_file = edict(yaml_file)\n",
    "dict_file.UCSD.CNN_PW_IN\n",
    "# yaml_file.UCSD\n",
    "# dict_file\n",
    "# print('s')\n",
    "# yaml_file"
   ]
  },
  {
   "cell_type": "markdown",
   "metadata": {},
   "source": [
    "# yaml学习笔记\n",
    "## 用法\n",
    "`import yaml\n",
    "with open(file_name,'r') as f:\n",
    "    yaml_file = yaml.load(f)\n",
    "    key_value = yaml_file['key_name']`\n",
    "## 作用\n",
    "可以将格式化的数据（.yml格式）格式化读取成为一个字典类型（dict）的变量。\n",
    "# easydict学习笔记\n",
    "## 用法\n",
    "`from easydict import EasyDict as edict\n",
    "dict_file = edict(dict_var)\n",
    "key_value = dict_file.key_name`\n",
    "## 作用\n",
    "可以直接使用‘.’来获取某一个键值，可以不用‘['key_name']’"
   ]
  }
 ],
 "metadata": {
  "kernelspec": {
   "display_name": "Python 2",
   "language": "python",
   "name": "python2"
  },
  "language_info": {
   "codemirror_mode": {
    "name": "ipython",
    "version": 2
   },
   "file_extension": ".py",
   "mimetype": "text/x-python",
   "name": "python",
   "nbconvert_exporter": "python",
   "pygments_lexer": "ipython2",
   "version": "2.7.12"
  }
 },
 "nbformat": 4,
 "nbformat_minor": 2
}
